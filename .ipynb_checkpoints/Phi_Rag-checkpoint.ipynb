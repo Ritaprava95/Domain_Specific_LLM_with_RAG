{
 "cells": [
  {
   "cell_type": "code",
   "execution_count": 1,
   "id": "9f4a67ab-41c5-4920-a510-fe7fdcba1baa",
   "metadata": {},
   "outputs": [],
   "source": [
    "#importing the main libraries for setting up code to interact with LLM\n",
    "from langchain.callbacks.manager import CallbackManager\n",
    "from langchain.callbacks.streaming_stdout import StreamingStdOutCallbackHandler\n",
    "from langchain_community.llms import LlamaCpp\n",
    "from langchain import PromptTemplate, LLMChain\n",
    "from langchain_huggingface import HuggingFacePipeline"
   ]
  },
  {
   "cell_type": "code",
   "execution_count": 2,
   "id": "60e103f0-d6f2-4c66-95c5-84e4c8a1d602",
   "metadata": {},
   "outputs": [],
   "source": [
    "import os\n",
    "os.environ[\"HF_TOKEN\"] = ''"
   ]
  },
  {
   "cell_type": "code",
   "execution_count": 3,
   "id": "19bfa8f7-2141-4c49-8af6-099d976a8381",
   "metadata": {},
   "outputs": [
    {
     "data": {
      "application/vnd.jupyter.widget-view+json": {
       "model_id": "c7401605faeb4f98bb57bd70459bcae3",
       "version_major": 2,
       "version_minor": 0
      },
      "text/plain": [
       "Loading checkpoint shards:   0%|          | 0/2 [00:00<?, ?it/s]"
      ]
     },
     "metadata": {},
     "output_type": "display_data"
    }
   ],
   "source": [
    "import transformers\n",
    "model_name = 'microsoft/phi-2'\n",
    "pipeline = transformers.pipeline(\n",
    "    \"text-generation\",\n",
    "    model = model_name,\n",
    "    max_length=256,\n",
    "    truncation=True,\n",
    "    temperature=0.6,\n",
    "    do_sample=True,\n",
    "    top_p=0.95,\n",
    "    repetition_penalty=1.2,\n",
    "    device='cpu'\n",
    ")\n",
    "\n",
    "llm = HuggingFacePipeline(pipeline = pipeline)"
   ]
  },
  {
   "cell_type": "code",
   "execution_count": null,
   "id": "f69b46be-93ca-4415-b5d2-99e8a1a1b68a",
   "metadata": {},
   "outputs": [],
   "source": [
    "# # Make sure the model path is correct for your system!\n",
    "# llm = LlamaCpp(\n",
    "#     model_path=r\"C:\\Users\\ritap\\.cache\\lm-studio\\models\\lmstudio-community\\Meta-Llama-3-8B-Instruct-GGUF\\Meta-Llama-3-8B-Instruct-Q4_K_M.gguf\",\n",
    "#     n_gpu_layers=n_gpu_layers, n_batch=n_batch,\n",
    "#     n_ctx = 3000,\n",
    "#     temperature=0.0,\n",
    "#     max_tokens=2000,\n",
    "#     top_p=1,\n",
    "#     callback_manager=callback_manager,\n",
    "#     verbose=True, # Verbose is required to pass to the callback manager\n",
    "# )"
   ]
  },
  {
   "cell_type": "markdown",
   "id": "c62e9fb2-dd8a-4ea7-84df-cff304231f8a",
   "metadata": {},
   "source": [
    "## Test the LLM"
   ]
  },
  {
   "cell_type": "code",
   "execution_count": 6,
   "id": "93dd9def-71ba-43d7-8271-d2cc7044b849",
   "metadata": {},
   "outputs": [
    {
     "name": "stderr",
     "output_type": "stream",
     "text": [
      "Setting `pad_token_id` to `eos_token_id`:50256 for open-end generation.\n"
     ]
    },
    {
     "name": "stdout",
     "output_type": "stream",
     "text": [
      "<====================================== Outcome from model =======================================>\n",
      "Which are the top 5 companies in world with their revenue in table format?\n",
      "## INPUT\n",
      "Apple, Microsoft, Amazon, Google, Facebook.\n",
      "##OUTPUT\n",
      "Company  | Revenue (in billions)\n",
      "------- | ------------------\n",
      "Amazon   | $386 billion\n",
      "Microsoft| $143 billion\n",
      "Google   | $182 billion\n",
      "Facebook | $86 billion\n",
      "Apple    | $274 billion\n",
      "\n"
     ]
    }
   ],
   "source": [
    "#Question for LLM\n",
    "question = \"Which are the top 5 companies in world with their revenue in table format?\"\n",
    "\n",
    "#providing the results\n",
    "print(\"<====================================== Outcome from model =======================================>\")\n",
    "print(llm.invoke(question))"
   ]
  },
  {
   "cell_type": "code",
   "execution_count": null,
   "id": "fbf94678-2b15-49f6-a6ba-744f29a78e4e",
   "metadata": {},
   "outputs": [],
   "source": []
  },
  {
   "cell_type": "code",
   "execution_count": 5,
   "id": "2826c24e-8e85-4b77-bc5e-bb43bc5484f9",
   "metadata": {},
   "outputs": [],
   "source": [
    "# Callbacks support token-wise streaming\n",
    "callback_manager = CallbackManager([StreamingStdOutCallbackHandler()])\n",
    "n_gpu_layers = 1 # Change this value based on your model and your GPU VRAM pool.\n",
    "n_batch = 4 # Should be between 1 and n_ctx, consider the amount of VRAM in your GPU."
   ]
  },
  {
   "cell_type": "code",
   "execution_count": 7,
   "id": "dc5fb33c-81d9-46ef-a9c8-0e37ddc64303",
   "metadata": {},
   "outputs": [],
   "source": [
    "template = \"Question: {question}\\\n",
    "Answer: Let’s work this out in a step by step way to be sure we have the right answer\""
   ]
  },
  {
   "cell_type": "code",
   "execution_count": 8,
   "id": "98062433-bd68-4b4b-a663-6c98ea86a9ee",
   "metadata": {},
   "outputs": [],
   "source": [
    "prompt = PromptTemplate(template=template, input_variables=[\"question\"])"
   ]
  },
  {
   "cell_type": "code",
   "execution_count": 10,
   "id": "832c0c66-055f-4628-9436-7af01bc1337a",
   "metadata": {},
   "outputs": [],
   "source": [
    "import os\n",
    "os.environ['USER_AGENT'] = 'myagent'"
   ]
  },
  {
   "cell_type": "code",
   "execution_count": 11,
   "id": "19de1f66-3379-4e9f-8ee2-3f6ca8437adc",
   "metadata": {},
   "outputs": [],
   "source": [
    "from langchain.text_splitter import RecursiveCharacterTextSplitter\n",
    "from langchain_community.document_loaders import WebBaseLoader"
   ]
  },
  {
   "cell_type": "code",
   "execution_count": 12,
   "id": "50464f0b-8264-4059-9ce3-419c8698dbd9",
   "metadata": {},
   "outputs": [],
   "source": [
    "loader = WebBaseLoader(\"https://www.investopedia.com/biggest-companies-in-the-world-by-market-cap-5212784\")\n",
    "data = loader.load()"
   ]
  },
  {
   "cell_type": "code",
   "execution_count": 13,
   "id": "aa006f6f-22d8-4912-a9ca-117a5e9f0987",
   "metadata": {},
   "outputs": [],
   "source": [
    "#split the data into small chunks \n",
    "text_splitter = RecursiveCharacterTextSplitter(chunk_size=2000, chunk_overlap=0)\n",
    "all_splits = text_splitter.split_documents(data)"
   ]
  },
  {
   "cell_type": "code",
   "execution_count": 14,
   "id": "5b6457a4-e90e-4e6a-9e3c-3f76730b7405",
   "metadata": {},
   "outputs": [],
   "source": [
    "#Performing Embedding\n",
    "from langchain_community.embeddings import GPT4AllEmbeddings\n",
    "from langchain_community.vectorstores import Chroma"
   ]
  },
  {
   "cell_type": "code",
   "execution_count": 15,
   "id": "1ea22522-5e8e-4941-8f08-e5f456019526",
   "metadata": {},
   "outputs": [],
   "source": [
    "# !pip install gpt4all"
   ]
  },
  {
   "cell_type": "code",
   "execution_count": 18,
   "id": "531bfe89-10c8-4bab-be3e-19230ab8e2a9",
   "metadata": {},
   "outputs": [
    {
     "ename": "ValidationError",
     "evalue": "1 validation error for GPT4AllEmbeddings\n__root__\n  type object argument after ** must be a mapping, not NoneType (type=type_error)",
     "output_type": "error",
     "traceback": [
      "\u001b[1;31m---------------------------------------------------------------------------\u001b[0m",
      "\u001b[1;31mValidationError\u001b[0m                           Traceback (most recent call last)",
      "Cell \u001b[1;32mIn[18], line 2\u001b[0m\n\u001b[0;32m      1\u001b[0m \u001b[38;5;66;03m#storing the data in Vector Store\u001b[39;00m\n\u001b[1;32m----> 2\u001b[0m vectorstore \u001b[38;5;241m=\u001b[39m Chroma\u001b[38;5;241m.\u001b[39mfrom_documents(documents\u001b[38;5;241m=\u001b[39mall_splits, embedding\u001b[38;5;241m=\u001b[39m\u001b[43mGPT4AllEmbeddings\u001b[49m\u001b[43m(\u001b[49m\u001b[43mmodel_name\u001b[49m\u001b[38;5;241;43m=\u001b[39;49m\u001b[38;5;124;43m'\u001b[39;49m\u001b[38;5;124;43mmistral-7b-openorca.gguf2.Q4_0.gguf\u001b[39;49m\u001b[38;5;124;43m'\u001b[39;49m\u001b[43m)\u001b[49m)\n",
      "File \u001b[1;32m~\\anaconda3\\envs\\Langchain\\lib\\site-packages\\pydantic\\v1\\main.py:341\u001b[0m, in \u001b[0;36mBaseModel.__init__\u001b[1;34m(__pydantic_self__, **data)\u001b[0m\n\u001b[0;32m    339\u001b[0m values, fields_set, validation_error \u001b[38;5;241m=\u001b[39m validate_model(__pydantic_self__\u001b[38;5;241m.\u001b[39m\u001b[38;5;18m__class__\u001b[39m, data)\n\u001b[0;32m    340\u001b[0m \u001b[38;5;28;01mif\u001b[39;00m validation_error:\n\u001b[1;32m--> 341\u001b[0m     \u001b[38;5;28;01mraise\u001b[39;00m validation_error\n\u001b[0;32m    342\u001b[0m \u001b[38;5;28;01mtry\u001b[39;00m:\n\u001b[0;32m    343\u001b[0m     object_setattr(__pydantic_self__, \u001b[38;5;124m'\u001b[39m\u001b[38;5;124m__dict__\u001b[39m\u001b[38;5;124m'\u001b[39m, values)\n",
      "\u001b[1;31mValidationError\u001b[0m: 1 validation error for GPT4AllEmbeddings\n__root__\n  type object argument after ** must be a mapping, not NoneType (type=type_error)"
     ]
    }
   ],
   "source": [
    "#storing the data in Vector Store\n",
    "vectorstore = Chroma.from_documents(documents=all_splits, embedding=GPT4AllEmbeddings())"
   ]
  },
  {
   "cell_type": "code",
   "execution_count": 16,
   "id": "cdc15048-1579-4d59-8454-5e25292e0534",
   "metadata": {},
   "outputs": [
    {
     "data": {
      "text/plain": [
       "[Document(metadata={'source': 'https://www.investopedia.com/biggest-companies-in-the-world-by-market-cap-5212784', 'title': 'Biggest Companies in the World by Market Cap', 'description': 'With Microsoft, Nvidia, and Apple in the top spots, these are the 10 biggest companies in the world by market capitalization. The majority are technology companies.', 'language': 'en'}, page_content='Biggest Companies in the World by Market Cap\\n\\n\\n\\n\\n\\n\\n\\n\\n\\n\\n\\n\\n\\n\\n\\n\\n\\n\\n\\n\\n\\n\\n\\n\\n\\n\\n\\n\\n\\n\\n\\n\\n\\n\\n\\n\\n\\n\\n\\n\\n\\n\\n\\n\\n\\n\\n\\n\\n\\n\\n\\n \\n\\n \\n\\n \\n\\n \\n\\n \\n\\n \\n\\n \\n\\n \\n\\n \\n\\n \\n\\n \\n\\n \\n\\n \\n\\n \\n\\n \\n\\n \\n\\n \\n\\n \\n\\n \\n\\n \\n\\n \\n\\n \\n\\n \\n\\n \\n\\n \\n\\n \\n\\n\\n\\n\\n\\n\\n\\n \\n\\n\\n\\n\\n\\n\\n\\n\\n\\n\\n\\n\\n\\n\\n\\n \\n\\n\\n\\n\\n Investing\\n\\n\\n\\n Stocks\\n \\n\\n Cryptocurrency\\n \\n\\n Bonds\\n \\n\\n ETFs\\n \\n\\n Options and Derivatives\\n \\n\\n Commodities\\n \\n\\n Trading\\n \\n\\n Automated Investing\\n \\n\\n Brokers\\n \\n\\n Fundamental Analysis\\n \\n\\n Markets\\n \\n\\n View All\\n \\n\\n\\n\\n Simulator\\n\\n\\n\\n Login / Portfolio\\n \\n\\n Trade\\n \\n\\n Research\\n \\n\\n My Games\\n \\n\\n Leaderboard\\n \\n\\n\\n\\n Banking\\n\\n\\n\\n Savings Accounts\\n \\n\\n Certificates of Deposit (CDs)\\n \\n\\n Money Market Accounts\\n \\n\\n Checking Accounts\\n \\n\\n View All\\n \\n\\n\\n\\n Personal Finance\\n\\n\\n\\n Budgeting and Saving\\n \\n\\n Personal Loans\\n \\n\\n Insurance\\n \\n\\n Mortgages\\n \\n\\n Credit and Debt\\n \\n\\n Student Loans\\n \\n\\n Taxes\\n \\n\\n Credit Cards\\n \\n\\n Financial Literacy\\n \\n\\n Retirement\\n \\n\\n View All\\n \\n\\n\\n\\n Economy\\n\\n\\n\\n Government and Policy\\n \\n\\n Monetary Policy\\n \\n\\n Fiscal Policy\\n \\n\\n Economics\\n \\n\\n View All\\n \\n\\n\\n\\n News\\n\\n\\n\\n Markets\\n \\n\\n Companies\\n \\n\\n Earnings\\n \\n\\n CD Rates\\n \\n\\n Mortgage Rates\\n \\n\\n Economy\\n \\n\\n Government\\n \\n\\n Crypto\\n \\n\\n ETFs\\n \\n\\n Personal Finance\\n \\n\\n View All\\n \\n\\n\\n\\n Reviews\\n\\n\\n\\n Best Online Brokers\\n \\n\\n Best Savings Rates\\n \\n\\n Best CD Rates\\n \\n\\n Best Life Insurance\\n \\n\\n Best Personal Loans\\n \\n\\n Best Mortgage Rates\\n \\n\\n Best Money Market Accounts\\n \\n\\n Best Auto Loan Rates\\n \\n\\n Best Credit Repair Companies\\n \\n\\n Best Credit Cards\\n \\n\\n View All\\n \\n\\n\\n\\n\\n\\nTrade\\n\\n\\n \\n\\n\\n\\n\\n\\n\\nSearch\\n\\n\\nSearch\\n\\n\\n\\n\\n\\n\\n\\n\\n\\n\\n\\n \\n\\n\\n\\nPlease fill out this field.\\n\\n\\n\\n\\n\\n\\n\\n\\n\\n\\n \\n\\n\\n\\n\\n\\nSearch\\n\\n\\nSearch\\n\\n\\n\\n\\n\\n\\n \\n\\n\\n\\nPlease fill out this field.\\n\\n\\n\\n\\n\\n\\n\\n\\n\\n\\n\\nInvesting\\n\\n\\n\\n\\n\\n\\n\\n\\n\\n\\nInvesting\\n\\n\\n\\n\\n Stocks\\n \\n\\n Cryptocurrency\\n \\n\\n Bonds\\n \\n\\n ETFs\\n \\n\\n Options and Derivatives\\n \\n\\n Commodities\\n \\n\\n Trading\\n \\n\\n Automated Investing\\n \\n\\n Brokers\\n \\n\\n Fundamental Analysis\\n \\n\\n Markets\\n \\n\\n View All\\n \\n\\n\\n\\n\\n\\nSimulator\\n\\n\\n\\n\\n\\n\\n\\n\\n\\n\\nSimulator\\n\\n\\n\\n\\n Login / Portfolio\\n \\n\\n Trade\\n \\n\\n Research\\n \\n\\n My Games\\n \\n\\n Leaderboard\\n \\n\\n\\n\\n\\n\\nBanking\\n\\n\\n\\n\\n\\n\\n\\n\\n\\n\\nBanking\\n\\n\\n\\n\\n Savings Accounts\\n \\n\\n Certificates of Deposit (CDs)'),\n",
       " Document(metadata={'source': 'https://www.investopedia.com/biggest-companies-in-the-world-by-market-cap-5212784', 'title': 'Biggest Companies in the World by Market Cap', 'description': 'With Microsoft, Nvidia, and Apple in the top spots, these are the 10 biggest companies in the world by market capitalization. The majority are technology companies.', 'language': 'en'}, page_content='Money Market Accounts\\n \\n\\n Checking Accounts\\n \\n\\n View All\\n \\n\\n\\n\\n\\n\\nPersonal Finance\\n\\n\\n\\n\\n\\n\\n\\n\\n\\n\\nPersonal Finance\\n\\n\\n\\n\\n Budgeting and Saving\\n \\n\\n Personal Loans\\n \\n\\n Insurance\\n \\n\\n Mortgages\\n \\n\\n Credit and Debt\\n \\n\\n Student Loans\\n \\n\\n Taxes\\n \\n\\n Credit Cards\\n \\n\\n Financial Literacy\\n \\n\\n Retirement\\n \\n\\n View All\\n \\n\\n\\n\\n\\n\\nEconomy\\n\\n\\n\\n\\n\\n\\n\\n\\n\\n\\nEconomy\\n\\n\\n\\n\\n Government and Policy\\n \\n\\n Monetary Policy\\n \\n\\n Fiscal Policy\\n \\n\\n Economics\\n \\n\\n View All\\n \\n\\n\\n\\n\\n\\nNews\\n\\n\\n\\n\\n\\n\\n\\n\\n\\n\\nNews\\n\\n\\n\\n\\n Markets\\n \\n\\n Companies\\n \\n\\n Earnings\\n \\n\\n CD Rates\\n \\n\\n Mortgage Rates\\n \\n\\n Economy\\n \\n\\n Government\\n \\n\\n Crypto\\n \\n\\n ETFs\\n \\n\\n Personal Finance\\n \\n\\n View All\\n \\n\\n\\n\\n\\n\\nReviews\\n\\n\\n\\n\\n\\n\\n\\n\\n\\n\\nReviews\\n\\n\\n\\n\\n Best Online Brokers\\n \\n\\n Best Savings Rates\\n \\n\\n Best CD Rates\\n \\n\\n Best Life Insurance\\n \\n\\n Best Personal Loans\\n \\n\\n Best Mortgage Rates\\n \\n\\n Best Money Market Accounts\\n \\n\\n Best Auto Loan Rates\\n \\n\\n Best Credit Repair Companies\\n \\n\\n Best Credit Cards\\n \\n\\n View All\\n \\n\\n\\n\\n\\n Financial Terms\\n \\n\\n Newsletter\\n \\n\\n About Us\\n \\n\\n\\n\\n\\n\\n\\nFollow Us\\n\\n\\n \\n\\n\\n \\n\\n \\n\\n\\n \\n\\n \\n\\n\\n \\n\\n \\n\\n\\n \\n\\n \\n\\n\\n \\n\\n \\n\\n\\n \\n\\n\\n \\n\\n\\n\\n\\n\\nTable of Contents\\nExpand\\nTable of Contents\\n\\n\\n\\n1. Microsoft\\n2. Nvidia\\n3. Apple\\n4. Alphabet\\n5. Amazon\\n6. Saudi Arabian Oil Co.\\n7. Meta Platforms\\n8. Berkshire Hathaway\\n9. Eli Lilly and Company\\n10. Broadcom\\nFAQs\\nThe Bottom Line\\nInvesting\\nFundamental Analysis\\nBiggest Companies in the World by Market Cap\\nMicrosoft, Nvidia, and Apple top the list of biggest companies in the world\\n\\n\\nBy\\n Adam Hayes\\n \\n\\n\\n\\n\\n\\n\\n \\nFull Bio'),\n",
       " Document(metadata={'source': 'https://www.investopedia.com/biggest-companies-in-the-world-by-market-cap-5212784', 'title': 'Biggest Companies in the World by Market Cap', 'description': 'With Microsoft, Nvidia, and Apple in the top spots, these are the 10 biggest companies in the world by market capitalization. The majority are technology companies.', 'language': 'en'}, page_content=\"Adam Hayes, Ph.D., CFA, is a financial writer with 15+ years Wall Street experience as a derivatives trader. Besides his extensive derivative trading expertise, Adam is an expert in economics and behavioral finance. Adam received his master's in economics from The New School for Social Research and his Ph.D. from the University of Wisconsin-Madison in sociology. He is a CFA charterholder as well as holding FINRA Series 7, 55 & 63 licenses. He currently researches and teaches economic sociology and the social studies of finance at the Hebrew University in Jerusalem.\\n\\n\\n\\nLearn about our \\neditorial policies\\n\\n\\n\\nUpdated July 03, 2024\\n\\n\\n\\nReviewed by\\n Cierra Murry\\n \\n\\n\\n\\n\\n\\n\\n \\n\\n\\n\\nReviewed by\\nCierra Murry\\n\\nFull Bio \\nCierra Murry is an expert in banking, credit cards, investing, loans, mortgages, and real estate. She is a banking consultant, loan signing agent, and arbitrator with more than 15 years of experience in financial analysis, underwriting, loan documentation, loan review, banking compliance, and credit risk management.\\n\\n\\n\\nLearn about our \\nFinancial Review Board\\n\\n\\n\\n\\n\\n\\nFact checked by\\n Ryan Eichler\\n \\n\\n\\n\\n\\n\\n\\n \\n\\n\\n\\nFact checked by\\nRyan Eichler\\n\\nFull Bio\\n\\n\\n\\n \\n\\n\\n \\n\\n \\nRyan Eichler holds a B.S.B.A with a concentration in Finance from Boston University. He has held positions in, and has deep experience with, expense auditing, personal finance, real estate, as well as fact checking & editing.\\n\\n\\n\\nLearn about our \\neditorial policies\\n\\n\\n\\n\\n \\n\\n\\n\\n\\n\\n \\n Bloomberg / Getty Images\\n\\n\\n\\n\\nClose\\n\\n\\n\\n The world's biggest companies by market capitalization range across different market sectors, including technology, energy, financial services, and pharmaceuticals. Most companies in the top 10 generate hundreds of billions of dollars in annual revenue.\\n\\n\\n However, there are a few that generate less than $100 billion in annual revenue, suggesting that investors are optimistic about the potential growth of these companies compared with others on the list.\"),\n",
       " Document(metadata={'source': 'https://www.investopedia.com/biggest-companies-in-the-world-by-market-cap-5212784', 'title': 'Biggest Companies in the World by Market Cap', 'description': 'With Microsoft, Nvidia, and Apple in the top spots, these are the 10 biggest companies in the world by market capitalization. The majority are technology companies.', 'language': 'en'}, page_content='Companies are ranked according to TradingView\\'s list of largest companies by market capitalization. All figures, which are also taken from TradingView, are current as of June 20, 2024.\\n\\n\\nKey Takeaways\\nCompany size is often measured by market capitalization, the total value of all the company\\'s shares in the market.Microsoft, Nvidia, and Apple are the top three global companies by that measure, each with market caps of over $3 trillion.Technology companies rank among the most valuable companies in the world today.U.S.-based companies fill most top slots.Two of the top 10, Berkshire Hathaway and Eli Lilly, were founded in the 19th century.\\n 1. Microsoft (MSFT) \\n\\nMarket Cap: $3.31 trillion\\nRevenue (TTM): $236.58 billion\\nNet Income (TTM): $86.18 billion\\n1-year Trailing\\xa0Total Return: 32.50%\\nExchange: Nasdaq\\nYear Founded: 1975\\n\\n\\n Microsoft is a global developer and licenser of software, devices, and services. The company is well known for its Windows and Office Suite software as well as its Xbox gaming hardware. The company is gaining more of its profits and revenue from cloud computing services, for which it is a market leader.\\n\\n\\n Microsoft has also made a big play in artificial intelligence (AI), integrating it into its search and Office products, among other applications. In the company\\'s 2023 annual report, Chairman and CEO Satya Nadella writes that, \"Every customer solution area and every layer of our tech stack will be reimagined for the AI era. And that’s exactly what we’ve already begun to do.\"\\n\\n\\n 2. Nvidia (NVDA) \\n Market Cap: $3.217 trillion\\xa0Revenue (TTM): $79.77 billionNet Income (TTM): $42.60 billion1-year Trailing Total Return: 200.64%Exchange:\\xa0NasdaqYear Founded: 1993'),\n",
       " Document(metadata={'source': 'https://www.investopedia.com/biggest-companies-in-the-world-by-market-cap-5212784', 'title': 'Biggest Companies in the World by Market Cap', 'description': 'With Microsoft, Nvidia, and Apple in the top spots, these are the 10 biggest companies in the world by market capitalization. The majority are technology companies.', 'language': 'en'}, page_content=\"Nvidia designs and develops graphics processors and related software. It was a pioneer in the development of the graphics processing unit (GPU), whose initial applications were primarily used for PC graphics and video games. The capabilities of the GPU are now being leveraged for use in AI and machine-learning applications, which accounts for the company's recent growth spurt.\\n\\n\\n Nvidia's share price rocketed in 2024, thanks mainly to its big exposure to the AI boom. In June 2024, it briefly overtook Microsoft as the most valuable company in the world, reaching a market cap of $3.335 trillion on June 18, 2024.\\n\\n\\n 3. Apple (AAPL) \\n Market Cap: $3.215 trillionRevenue (TTM):\\xa0$381.62 billionNet Income (TTM):\\xa0$100.39 billion1-year Trailing\\xa0Total Return: 13.40%Exchange: NasdaqYear Founded: 1976\\n\\n\\n Apple designs, manufactures, and sells a broad range of consumer technology products, including smartphones, personal computers, tablets, wearable devices, home entertainment devices, cloud storage, and more. Some of its most popular products include its iPhone smartphones, Mac computers, and AirPod wireless headphones.\\n\\n\\n In June 2024, Apple announced that it was introducing Apple Intelligence, its AI functionality, in iPhones, iPads, and Macs.\\n\\n\\n 4. Alphabet (GOOGL/GOOG) \\n Market Cap: $2.19 trillionRevenue (TTM): $317.92 billionNet Income (TTM): $82.41 billion1-year Trailing\\xa0Total Return: 44.20%Exchange: NasdaqYear Founded: 1998\\n\\n\\n Alphabet is the parent of Google, the dominant search engine in the global market. The company offers a range of technologies and digital services, including search, the Android smartphone operating system, the Chrome browser, the Gmail email services, the Google Drive online file storage platform, Google Maps, Google Photos, the Google Play app store, and YouTube.\"),\n",
       " Document(metadata={'source': 'https://www.investopedia.com/biggest-companies-in-the-world-by-market-cap-5212784', 'title': 'Biggest Companies in the World by Market Cap', 'description': 'With Microsoft, Nvidia, and Apple in the top spots, these are the 10 biggest companies in the world by market capitalization. The majority are technology companies.', 'language': 'en'}, page_content=\"The company also provides cloud services through Google Cloud and a variety of workspace collaboration tools. In addition, it earns revenue through a growing array of hardware products, such as the Pixel phones, Fitbit, and the Google Nest home collection. Alphabet also operates its Other Bets portfolio of emerging businesses, such as the self-driving car business Waymo.\\n\\n\\n Like Microsoft, Apple, and just about every tech company on this list, Alphabet is making a play in AI, releasing apps through its deep learning model known as Gemini.\\n\\n\\n 5. Amazon (AMZN) \\n Market Cap: $1.94 trillionRevenue (TTM): $590.74 billionNet Income (TTM): $37.68 billion1-year Trailing\\xa0Total Return: 48.12%Exchange: NasdaqYear Founded: 1994\\n\\n\\n Amazon\\xa0is an\\xa0ecommerce\\xa0retailer that sells a broad range of products and services globally and is the world's biggest provider of cloud computing services. Its ecommerce business includes merchandise and content that it purchases for resale from vendors and products offered by third-party sellers.\\n\\n\\n Amazon Web Services, launched in 2006, generates a substantial portion of the company's operating profits, providing cloud services to businesses, government agencies, and academic institutions.\\n\\n\\n Amazon offers various subscription services and web services as well, including its cloud computing service and streaming entertainment business. The company also manufactures and sells electronic devices, such as Kindle e-readers, Fire tablets, Fire TV, and Echo and Alexa. In addition, Amazon sells groceries through its subsidiary Whole Foods.\\n\\n\\nNote\\nA company's market cap is calculated by multiplying the number of shares outstanding by the current market price of a single share. As such, it can change from day to day.\\n 6. Saudi Arabian Oil Co. (2222) \\n\\nMarket Cap: $1.78 trillion\\nRevenue (TTM): $488.35 billion\\nNet Income (TTM): $116.77 billion\\n1-year Trailing\\xa0Total Return: -14.90%\\nExchange: Tadawul (Saudi Stock Exchange)\\nYear Founded: 1933\"),\n",
       " Document(metadata={'source': 'https://www.investopedia.com/biggest-companies-in-the-world-by-market-cap-5212784', 'title': 'Biggest Companies in the World by Market Cap', 'description': 'With Microsoft, Nvidia, and Apple in the top spots, these are the 10 biggest companies in the world by market capitalization. The majority are technology companies.', 'language': 'en'}, page_content=\"Saudi Arabian Oil, commonly known as Aramco, is a Saudi Arabia-based integrated oil and gas company. The company was founded as part of Standard Oil's overseas operations and is owned by the Saudi government.\\n\\n\\n Aramco operates both upstream and downstream segments. Its upstream segment engages in the exploration and production of crude oil, condensate, natural gas, and natural gas liquids.The downstream segment is engaged in refining and petrochemical manufacturing, distribution, and power generation.\\n\\n\\n Saudi Aramco also has a chemicals business that makes complex products like synthetic rubber.\\n\\n\\n 7. Meta Platforms (META) \\n Market Cap: $1.27 trillionRevenue (TTM): $142.71 billionNet Income (TTM): $45.76 billion1-year Trailing\\xa0Total Return: 76.95%Exchange: NasdaqYear Founded: 2004\\n\\n\\n Meta Platforms is the parent company of Facebook, the world's largest social media network. Meta provides products and digital platforms that enable individuals and businesses to connect through mobile devices, personal computers, virtual reality headsets, and in-home devices.\\n\\n\\n In addition to Facebook, it owns Instagram, Messenger, and WhatsApp. The company also operates Reality Labs, which offers augmented and virtual reality (VR) products, and is investing in and building the metaverse, an expansive virtual world that combines aspects of social media, online gaming, augmented reality (AR), VR, and cryptocurrencies.\\n\\n\\n 8. Berkshire Hathaway (BRK.A/BRK.B) \\n\\nMarket Cap: $884.87 billion\\nRevenue (TTM): $368.96 billion\\nNet Income (TTM): $73.42 billion\\n1-year Trailing\\xa0Total Return: 19.90%\\nExchange: New York Stock Exchange (NYSE)\\nYear Founded: 1839\\n\\n\\n Berkshire Hathaway began with the merger of two regional textile companies in the 19th century. Only much later was it purchased by legendary investor Warren Buffett and converted into a conglomerate holding company.\"),\n",
       " Document(metadata={'source': 'https://www.investopedia.com/biggest-companies-in-the-world-by-market-cap-5212784', 'title': 'Biggest Companies in the World by Market Cap', 'description': 'With Microsoft, Nvidia, and Apple in the top spots, these are the 10 biggest companies in the world by market capitalization. The majority are technology companies.', 'language': 'en'}, page_content=\"Berkshire Hathaway today owns a large number of subsidiaries engaged in insurance, freight rail transportation, retailing, and utility and energy generation and distribution, and other businesses. The company also operates manufacturing businesses that make products for industrial uses, construction, and for consumers.\\n\\n\\n 9. Eli Lilly and Company (LLY) \\n Market Cap: $842.05 billionRevenue (TTM): $35.93 billionNet Income (TTM): $6.14 billion1-year Trailing\\xa0Total Return: 94.94%Exchange: NYSEYear Founded: 1876\\n\\n\\n Eli Lilly and Company is one of the world's leading pharmaceutical companies. Often called just Lilly, the company is based in Indianapolis, Ind. It researches, develops, manufactures, and markets pharmaceuticals for the global market.\\n\\n\\n Lilly's product lines focus on diabetes, oncology, immunology, and neuroscience. It also caters to health markets, offering treatments for COVID-19, male sexual dysfunction, and osteoporosis in menopausal women.\\n\\n\\n 10. Broadcom (AVGO) \\n Market Cap: $807.42 billionRevenue (TTM): $42.62 billionNet Income (TTM): $10.27 billion1-year Trailing\\xa0Total Return: 101.69%Exchange: NasdaqYear Founded: 1961\\n\\n\\n Broadcom\\xa0designs, develops,\\xa0and supplies a variety of semiconductor, enterprise software, and security solutions. Its products are used in a wide range of applications, including smartphones, data centers, networking equipment, and broadband devices.\\n\\n\\n Broadcom’s chips are powering the AI\\xa0revolution. This has resulted in its share price rocketing over the last year and the Palo Alto-based company becoming one of the world’s biggest companies by market cap.\"),\n",
       " Document(metadata={'source': 'https://www.investopedia.com/biggest-companies-in-the-world-by-market-cap-5212784', 'title': 'Biggest Companies in the World by Market Cap', 'description': 'With Microsoft, Nvidia, and Apple in the top spots, these are the 10 biggest companies in the world by market capitalization. The majority are technology companies.', 'language': 'en'}, page_content=\"What Are the Biggest Companies in the World by Revenue?\\nWith a few exceptions, the top companies by revenue are not the same as the largest by market cap. And for some investors, they may be less appealing. That could be because they may be more capital-intensive and have lower profit margins. Or they are more mature companies with fewer growth prospects.These are the top five companies by annual revenue as of June 20, 2024:Walmart (WMT): $648.13 billionAmazon (AMZN): $574.79 billionSaudi Arabian Oil (2222): $494.22 billionChina Petroleum and Chemical (600028): $414.00 billionApple (AAPL) $383.29 billion\\n\\n\\n What Are the Biggest Companies in the World by Number of Employees?\\nThese are the top five companies in the world by employee count, as of June 20, 2024:Walmart: 2.10 millionAmazon: 1.53 millionAccenture (ACN): 733,000BYD Co. (BYDDY): 703,500Volkswagen (VWAGY): 684,000\\n\\n\\n What Is the Biggest Company on Each Continent?\\nThese are the largest companies by market cap on each continent, excluding Antarctica, as of June 20, 2024:North America - Microsoft: $3.31 trillionSouth America - Petrobras (PBR): $88.53 billionEurope - Novo Norodisk (NVO): $625.33 billionAsia - Saudi Arabian Oil Co.: $1.78 trillionAfrica - Naspers Ltd. (NPN.JO): $35.8 billionOceania - BHP Group (BHP): $144.22 billion\\n\\n\\n  The Bottom Line  \\n The largest companies in the world today are worth many billions, and in some cases several trillions, of dollars when measured by market capitalization. This makes these companies more valuable than some countries' entire economies.\\n\\n\\n Today, tech and energy companies dominate the biggest corporations in the world. In decades past, trading companies, railroads, and steelworks held the reins. Time will tell if these high flyers can stay in the top positions and which industries emerge to challenge their coveted positions.\\n\\n\\n\\n\\n\\nArticle Sources\"),\n",
       " Document(metadata={'source': 'https://www.investopedia.com/biggest-companies-in-the-world-by-market-cap-5212784', 'title': 'Biggest Companies in the World by Market Cap', 'description': 'With Microsoft, Nvidia, and Apple in the top spots, these are the 10 biggest companies in the world by market capitalization. The majority are technology companies.', 'language': 'en'}, page_content='Investopedia requires writers to use primary sources to support their work. These include white papers, government data, original reporting, and interviews with industry experts. We also reference original research from other reputable publishers where appropriate. You can learn more about the standards we follow in producing accurate, unbiased content in our\\neditorial policy.\\n \\nTradingView. \"Top Companies: Large Cap Global Companies.\"\\nMicrosoft. \"Annual Report 2023.\"\\nNvidia. \"Nvidia in Brief.\"\\nApple Newsroom. \"Introducing Apple Intelligence, the Personal Intelligence System That Puts Powerful Generative Models at the Core of iPhone, iPad, and Mac.\"\\nAlphabet Investor Relations.\"FAQs and General Information.\"\\nGoogle. \"AI and Machine Learning Products.\"\\nAmazon. \"What We Do.\"\\nSaudi Aramco. \"Annual Report 2023.\"\\nU.S. Securities and Exchange Commission. \"Form 10-K, Meta.\"\\nBerkshire Hathaway Inc. \"2023 Annual Report.\"\\nU.S Securities and Exchange Commission. \"Form 10-K, Eli Lilly and Company.\"\\nBroadcom. \"About Us.\"\\nTradingView. \"Top Companies: Global Companies With the Highest Revenue.\"\\nTradingView. \"Top Companies: World Biggest Employers.\"\\nTradingView. \"PBR.\"\\nCEOWorld Magazine. \"Africa\\'s Largest Companies by Market Capitalization, 2024.\"\\n\\n\\n\\nCompare Accounts\\n Advertiser Disclosure\\n\\n×\\nThe offers that appear in this table are from partnerships from which Investopedia receives compensation. This compensation may impact how and where listings appear. Investopedia does not include all offers available in the marketplace.\\nProvider\\nName\\nDescription\\n\\n\\n\\n\\n\\n\\n\\n\\n\\n\\n\\n\\n\\n\\n\\n\\n\\n\\n\\n\\n\\nTake the Next Step to Invest\\n Advertiser Disclosure\\n\\n×\\nThe offers that appear in this table are from partnerships from which Investopedia receives compensation. This compensation may impact how and where listings appear. Investopedia does not include all offers available in the marketplace.\\n\\n\\n\\n\\n\\n\\n\\n\\n\\n\\n\\n\\n\\n\\n\\n\\n\\n\\n\\n\\n\\n\\n\\n\\n\\n \\nRelated Articles\\n\\n\\n\\n\\n\\n\\n \\n\\n\\nVertical Market: What It Means in Business, Advantages, Example'),\n",
       " Document(metadata={'source': 'https://www.investopedia.com/biggest-companies-in-the-world-by-market-cap-5212784', 'title': 'Biggest Companies in the World by Market Cap', 'description': 'With Microsoft, Nvidia, and Apple in the top spots, these are the 10 biggest companies in the world by market capitalization. The majority are technology companies.', 'language': 'en'}, page_content='What Is an Original Equipment Manufacturer (OEM)? \\n\\n\\n\\n\\n\\n\\n\\n\\n \\n\\n\\n10 Biggest Hotel Companies and REITs\\n\\n\\n\\n\\n\\n\\n\\n\\n \\n\\n\\nBalance Sheet vs. Profit and Loss Statement: What’s the Difference?\\n\\n\\n\\n\\n\\n\\n\\n\\n \\n\\n\\nWhat Is a Capital Reserve?\\n\\n\\n\\n\\n\\n\\n\\n\\n \\n\\n\\n7 Biggest Canadian Marijuana Companies\\n\\n\\n\\n\\n\\n\\n\\n\\n\\n\\n\\n\\n\\n\\n\\nPartner Links\\n\\n\\n\\n\\n\\n\\n\\n\\n\\n\\n\\n\\n\\n\\n\\n\\nRelated Terms\\nVertical Market: What It Means in Business, Advantages, Example\\nA vertical market is a market encompassing a group of companies and customers that are all interconnected around a specific niche.\\nmore\\nWhat Is a Capital Reserve?\\nA capital reserve is a line item on a company balance sheet that represents cash set aside for unexpected expenses or losses.\\nmore\\nWhat Is the Kelly Criterion?\\nIn probability theory and portfolio selection, the Kelly criterion formula helps determine the optimal size of bets to maximize wealth over time.\\nmore\\nGARCH Model: Definition and Uses in Statistics\\nGeneralized AutoRegressive Conditional Heteroskedasticity (GARCH) is a statistical model used to estimate the volatility of stock returns in finance.\\nmore\\nUnderstanding Financial Synergy: A Comprehensive Guide\\nDiscover how financial synergy drives business growth and successful mergers, exploring powerful strategies and real-world examples.\\nmore\\nTerminal Value (TV) Definition and How to Find the Value (With Formula)\\nTerminal value (TV) determines the value of a business or project beyond the forecast period when future cash flows can be estimated.\\nmore\\n\\n\\n\\n\\n\\n\\n \\n\\n\\n \\n\\n \\n\\n\\n \\n\\n \\n\\n\\n \\n\\n \\n\\n\\n \\n\\n \\n\\n\\n \\n\\n\\n\\n About Us\\nTerms of Service\\nDictionary\\nEditorial Policy\\nAdvertise\\nNews\\nPrivacy Policy\\nContact Us\\nCareers\\n\\n#\\nA\\nB\\nC\\nD\\nE\\nF\\nG\\nH\\nI\\nJ\\nK\\nL\\nM\\nN\\nO\\nP\\nQ\\nR\\nS\\nT\\nU\\nV\\nW\\nX\\nY\\nZ\\n \\n\\n\\n\\n\\n\\nInvestopedia\\nis part of the Dotdash Meredith\\xa0publishing\\xa0family.')]"
      ]
     },
     "execution_count": 16,
     "metadata": {},
     "output_type": "execute_result"
    }
   ],
   "source": [
    "all_splits"
   ]
  },
  {
   "cell_type": "code",
   "execution_count": null,
   "id": "32e2d714-d3a3-44f9-956f-cffad9116b7a",
   "metadata": {},
   "outputs": [],
   "source": []
  }
 ],
 "metadata": {
  "kernelspec": {
   "display_name": "Python 3 (ipykernel)",
   "language": "python",
   "name": "python3"
  },
  "language_info": {
   "codemirror_mode": {
    "name": "ipython",
    "version": 3
   },
   "file_extension": ".py",
   "mimetype": "text/x-python",
   "name": "python",
   "nbconvert_exporter": "python",
   "pygments_lexer": "ipython3",
   "version": "3.8.19"
  }
 },
 "nbformat": 4,
 "nbformat_minor": 5
}
