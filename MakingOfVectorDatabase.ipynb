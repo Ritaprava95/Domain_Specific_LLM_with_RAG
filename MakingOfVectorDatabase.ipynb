{
 "cells": [
  {
   "cell_type": "code",
   "execution_count": 1,
   "id": "fa1ba463-7b3f-422d-9243-8cb11231dec0",
   "metadata": {},
   "outputs": [],
   "source": [
    "import os\n",
    "os.environ['USER_AGENT'] = 'myagent'"
   ]
  },
  {
   "cell_type": "code",
   "execution_count": 2,
   "id": "b7c88d04-9741-4286-bdb6-f697bb0507bb",
   "metadata": {},
   "outputs": [],
   "source": [
    "from langchain.text_splitter import RecursiveCharacterTextSplitter\n",
    "from langchain_community.document_loaders import WebBaseLoader"
   ]
  },
  {
   "cell_type": "code",
   "execution_count": 3,
   "id": "7173ae84-2ba5-4673-8e2a-e0ae0fcc1cc6",
   "metadata": {},
   "outputs": [],
   "source": [
    "from langchain_huggingface import HuggingFaceEmbeddings # other embeddings available \n",
    "from langchain_community.vectorstores import Chroma"
   ]
  },
  {
   "cell_type": "code",
   "execution_count": 4,
   "id": "e0ead250-f9c6-4cb3-9d79-99641ab71a90",
   "metadata": {},
   "outputs": [],
   "source": [
    "from langchain_community.document_loaders import TextLoader\n",
    "from langchain.text_splitter import RecursiveCharacterTextSplitter\n",
    "from langchain.text_splitter import CharacterTextSplitter"
   ]
  },
  {
   "cell_type": "markdown",
   "id": "484fbebe-aedc-4511-aec7-62f7889e79da",
   "metadata": {},
   "source": [
    "## Vector database from a list of strings"
   ]
  },
  {
   "cell_type": "code",
   "execution_count": 5,
   "id": "7a4240c5-1bc0-4eaa-b365-eed6e6565a25",
   "metadata": {},
   "outputs": [],
   "source": [
    "data = [\"I am Rito\", \"I am a male\", \"I work as a data scientist\", \"My favourite game is cricket\"]"
   ]
  },
  {
   "cell_type": "code",
   "execution_count": 6,
   "id": "1a9b8ab3-c624-4864-996c-3d9501897158",
   "metadata": {},
   "outputs": [],
   "source": [
    "# dir(Chroma)"
   ]
  },
  {
   "cell_type": "code",
   "execution_count": 9,
   "id": "422be843-6067-4944-b96c-a03feaef2d5d",
   "metadata": {},
   "outputs": [],
   "source": [
    "#storing the data in Vector Store\n",
    "model_name = \"sentence-transformers/all-mpnet-base-v2\"\n",
    "model_kwargs = {\"device\": \"cuda\"}\n",
    "\n",
    "# create embeddings\n",
    "embedding = HuggingFaceEmbeddings(model_name=model_name, model_kwargs=model_kwargs)\n",
    "\n",
    "# database\n",
    "vector_database = Chroma.from_texts(texts=data, embedding=embedding) # takes a list of strings"
   ]
  },
  {
   "cell_type": "code",
   "execution_count": 10,
   "id": "01132b46-ecdc-4e4a-99d5-babb1ddf5028",
   "metadata": {},
   "outputs": [
    {
     "data": {
      "text/plain": [
       "<langchain_community.vectorstores.chroma.Chroma at 0x1c46b5b8eb0>"
      ]
     },
     "execution_count": 10,
     "metadata": {},
     "output_type": "execute_result"
    }
   ],
   "source": [
    "vector_database"
   ]
  },
  {
   "cell_type": "markdown",
   "id": "34b5acae-4599-4174-89f1-82d63d45c649",
   "metadata": {},
   "source": [
    "## Vector database from a large pice of text( string)"
   ]
  },
  {
   "cell_type": "code",
   "execution_count": 17,
   "id": "e30d5cbd-5f81-49ec-933f-717b43921da4",
   "metadata": {},
   "outputs": [],
   "source": [
    "data = r\"I am Rito. I am a male. I work as a data scientist. My favourite game is cricket.\""
   ]
  },
  {
   "cell_type": "code",
   "execution_count": 18,
   "id": "5f450158-a25f-4b74-9cfb-087dd68129a3",
   "metadata": {},
   "outputs": [
    {
     "name": "stderr",
     "output_type": "stream",
     "text": [
      "Created a chunk of size 12, which is longer than the specified 10\n",
      "Created a chunk of size 27, which is longer than the specified 10\n"
     ]
    }
   ],
   "source": [
    "text_splitter = CharacterTextSplitter(separator='.', chunk_size=10, chunk_overlap=0)\n",
    "data = text_splitter.split_text(data)"
   ]
  },
  {
   "cell_type": "code",
   "execution_count": 19,
   "id": "537c01fa-4f49-4889-9141-9bba25fd46cf",
   "metadata": {},
   "outputs": [],
   "source": [
    "# dir(CharacterTextSplitter)"
   ]
  },
  {
   "cell_type": "code",
   "execution_count": 20,
   "id": "60411e67-fefa-4da8-8b0c-1bdd60fc6292",
   "metadata": {},
   "outputs": [
    {
     "data": {
      "text/plain": [
       "['I am Rito',\n",
       " 'I am a male',\n",
       " 'I work as a data scientist',\n",
       " 'My favourite game is cricket']"
      ]
     },
     "execution_count": 20,
     "metadata": {},
     "output_type": "execute_result"
    }
   ],
   "source": [
    "data"
   ]
  },
  {
   "cell_type": "code",
   "execution_count": 15,
   "id": "0d73d1d3-b11c-4b75-b186-b7711d97ca86",
   "metadata": {},
   "outputs": [],
   "source": [
    "#storing the data in Vector Store\n",
    "model_name = \"sentence-transformers/all-mpnet-base-v2\"\n",
    "model_kwargs = {\"device\": \"cuda\"}\n",
    "\n",
    "# create embeddings\n",
    "embedding = HuggingFaceEmbeddings(model_name=model_name, model_kwargs=model_kwargs)\n",
    "\n",
    "# database\n",
    "vector_database = Chroma.from_texts(texts=data, embedding=embedding) # takes a list of strings"
   ]
  },
  {
   "cell_type": "code",
   "execution_count": 16,
   "id": "6ffc1fa0-967e-49ac-a4b3-e31ef2b649ee",
   "metadata": {},
   "outputs": [
    {
     "data": {
      "text/plain": [
       "<langchain_community.vectorstores.chroma.Chroma at 0x1c4697bb400>"
      ]
     },
     "execution_count": 16,
     "metadata": {},
     "output_type": "execute_result"
    }
   ],
   "source": [
    "vector_database"
   ]
  },
  {
   "cell_type": "code",
   "execution_count": null,
   "id": "af6deb67-2d71-4530-9ba8-32c69970af8a",
   "metadata": {},
   "outputs": [],
   "source": []
  },
  {
   "cell_type": "markdown",
   "id": "4873b857-f72b-4882-b6ea-2a1ae6bac075",
   "metadata": {},
   "source": [
    "## From a text document"
   ]
  },
  {
   "cell_type": "code",
   "execution_count": 21,
   "id": "b024faf0-bbb0-4988-a833-011a5d1d166b",
   "metadata": {},
   "outputs": [
    {
     "name": "stderr",
     "output_type": "stream",
     "text": [
      "Created a chunk of size 12, which is longer than the specified 10\n",
      "Created a chunk of size 27, which is longer than the specified 10\n"
     ]
    }
   ],
   "source": [
    "raw_documents = TextLoader('data_example.txt').load()\n",
    "text_splitter = CharacterTextSplitter(separator = '.', chunk_size=10, chunk_overlap=0)\n",
    "data = text_splitter.split_documents(raw_documents)"
   ]
  },
  {
   "cell_type": "code",
   "execution_count": 22,
   "id": "923ddf24-d7be-4f91-a836-61d3edf744ce",
   "metadata": {},
   "outputs": [
    {
     "data": {
      "text/plain": [
       "[Document(metadata={'source': 'data_example.txt'}, page_content='I am Rito'),\n",
       " Document(metadata={'source': 'data_example.txt'}, page_content='I am a male'),\n",
       " Document(metadata={'source': 'data_example.txt'}, page_content='I work as a data scientist'),\n",
       " Document(metadata={'source': 'data_example.txt'}, page_content='My favourite game is cricket')]"
      ]
     },
     "execution_count": 22,
     "metadata": {},
     "output_type": "execute_result"
    }
   ],
   "source": [
    "data"
   ]
  },
  {
   "cell_type": "code",
   "execution_count": null,
   "id": "9099246e-cd26-4027-b88a-dad5cb3c1938",
   "metadata": {},
   "outputs": [],
   "source": []
  }
 ],
 "metadata": {
  "kernelspec": {
   "display_name": "Python 3 (ipykernel)",
   "language": "python",
   "name": "python3"
  },
  "language_info": {
   "codemirror_mode": {
    "name": "ipython",
    "version": 3
   },
   "file_extension": ".py",
   "mimetype": "text/x-python",
   "name": "python",
   "nbconvert_exporter": "python",
   "pygments_lexer": "ipython3",
   "version": "3.10.14"
  }
 },
 "nbformat": 4,
 "nbformat_minor": 5
}
